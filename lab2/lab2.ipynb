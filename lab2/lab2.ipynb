{
 "cells": [
  {
   "cell_type": "code",
   "execution_count": 1,
   "metadata": {},
   "outputs": [],
   "source": [
    "import random\n",
    "from collections import namedtuple\n",
    "import numpy as np\n",
    "import matplotlib.pyplot as plt\n",
    "from copy import copy\n",
    "import time\n",
    "#!pip3 install memory_profiler\n",
    "%load_ext memory_profiler\n"
   ]
  },
  {
   "cell_type": "code",
   "execution_count": 2,
   "metadata": {},
   "outputs": [],
   "source": [
    "def problem(N, seed=None):\n",
    "    random.seed(seed)\n",
    "    return list(sorted({\n",
    "        tuple(set(random.randint(0, N - 1) for n in range(random.randint(N // 5, N // 2))))\n",
    "        for n in range(random.randint(N, N * 5))})\n",
    "    )"
   ]
  },
  {
   "cell_type": "code",
   "execution_count": 3,
   "metadata": {},
   "outputs": [],
   "source": [
    "Individual= namedtuple('Individual',['genome','fitTuple']) \n",
    "\n",
    "def fitness_function(genome: list):\n",
    "    '''Returns a tuple (number_of_covered_elements, -weigth)'''\n",
    "    #this fitness function allows the precence of not optimal solution. The hierarchy of them shold be \n",
    "    # based at first of the #ofCoverdEl and then on the lighter\n",
    "    num_covered_elements = set()\n",
    "    weigth = 0\n",
    "    for (i, list_) in enumerate(ALL_LISTS):\n",
    "        if genome[i]:\n",
    "            num_covered_elements.update(list_)\n",
    "            weigth += len(list_)\n",
    "    \n",
    "    return len(num_covered_elements), -weigth #the reason why weight is negative is we want to minimize it"
   ]
  },
  {
   "cell_type": "code",
   "execution_count": 4,
   "metadata": {},
   "outputs": [],
   "source": [
    "\n",
    "def tournament(population, tournament_size=2):\n",
    "    return max(random.choices(population, k=tournament_size), key=lambda i: i.fitTuple)\n",
    "\n",
    "\n",
    "def cross_over(g1, g2):\n",
    "    cut = random.randint(0, len(ALL_LISTS)-1)\n",
    "    choice=random.randint(0,2)\n",
    "    if choice==0:\n",
    "        return g1[:cut] + g2[cut:]\n",
    "    else:\n",
    "        return g2[:cut] + g1[cut:]\n",
    "\n",
    "\n",
    "def mutation(g):\n",
    "    point = random.randint(0, len(ALL_LISTS) - 1)\n",
    "    return g[:point] + (1 - g[point],) + g[point + 1 :]\n",
    "\n",
    "def multiple_mutation(g):\n",
    "    '''using multiple it's worse, because mutation should be small'''\n",
    "    nflips=random.randint(1,100)\n",
    "    for _ in range(nflips):\n",
    "        g=mutation(g)\n",
    "    return g\n",
    "\n",
    "def vacuum_cleaner(g):\n",
    "    '''takes some weight off by switching off a list'''\n",
    "    temp_g=g\n",
    "    for _ in range (random.randint(0,len(ALL_LISTS))):\n",
    "        point=random.randint(0, len(ALL_LISTS) - 1)\n",
    "        if temp_g[point] == 1:\n",
    "            temp_g= temp_g[:point] + (0,) + temp_g[point + 1 :]\n",
    "    return temp_g\n",
    "    \n",
    "\n",
    "def deClonizator(population):\n",
    "    '''returns a population without duplicates'''\n",
    "    unique_population=list()\n",
    "    for individual in population:\n",
    "        if individual not in unique_population:\n",
    "            unique_population.append(individual)\n",
    "    return unique_population\n",
    "\n",
    "\n"
   ]
  },
  {
   "cell_type": "code",
   "execution_count": 5,
   "metadata": {},
   "outputs": [],
   "source": [
    "\n",
    "def GA(population, NUM_GENERATIONS, OFFSPRING_SIZE, mutation_rate,POPULATION_SIZE,cleaner_rate):\n",
    "    start = time.time()                 #to take note of the computation time\n",
    "    fittestIndividual=copy(population[0])\n",
    "    for g in range(NUM_GENERATIONS):\n",
    "        offspring = list()\n",
    "        for i in range(OFFSPRING_SIZE): #generation of the offSprings\n",
    "            if random.random() < mutation_rate:\n",
    "                p = tournament(population)\n",
    "                if g<NUM_GENERATIONS/cleaner_rate:\n",
    "                    o= vacuum_cleaner(p.genome)\n",
    "                else:\n",
    "                    o = mutation(p.genome)\n",
    "                #o = mutation(p.genome)\n",
    "                   \n",
    "            else:\n",
    "                p1 = tournament(population)\n",
    "                p2 = tournament(population)\n",
    "                o = cross_over(p1.genome, p2.genome)\n",
    "            offspring.append(Individual(o, fitness_function(o)))\n",
    "        population += offspring  #offspring added to the population\n",
    "        \n",
    "        #population=deClonizator(population)\n",
    "        population=list(dict.fromkeys(population))  #deletion of duplicates\n",
    "        \n",
    "        population = sorted(population, key=lambda i: i.fitTuple, reverse=True)[:POPULATION_SIZE]  #cut the population to the original size\n",
    "        if(population[0].fitTuple>fittestIndividual.fitTuple):  #copy the fittest individual\n",
    "            fittestIndividual=copy(population[0])\n",
    "    end = time.time()\n",
    "    delta=format(end-start, '.2f')\n",
    "    #fitCall=NUM_GENERATIONS*OFFSPRING_SIZE #take note of #ofFitnessFunctionCall\n",
    "    #print( \"time: \" + str(delta)+ \" fit call \" + str(fitCall))\n",
    "    print( \"time: \" + str(delta) + \" fittest: \" + str(fittestIndividual.fitTuple))\n",
    "    return fittestIndividual"
   ]
  },
  {
   "cell_type": "markdown",
   "metadata": {},
   "source": [
    "##Comparison between GA with cleaner and without it"
   ]
  },
  {
   "cell_type": "code",
   "execution_count": 6,
   "metadata": {},
   "outputs": [],
   "source": [
    "\n",
    "def GAclean(population, NUM_GENERATIONS, OFFSPRING_SIZE, mutation_rate,POPULATION_SIZE,cleaner_rate):\n",
    "    start = time.time()                 #to take note of the computation time\n",
    "    fittestIndividual=copy(population[0])\n",
    "    fitArray_=list()\n",
    "    for g in range(NUM_GENERATIONS):\n",
    "        offspring = list()\n",
    "        for i in range(OFFSPRING_SIZE): #generation of the offSprings\n",
    "            if random.random() < mutation_rate:\n",
    "                p = tournament(population)\n",
    "                if g<NUM_GENERATIONS/cleaner_rate:\n",
    "                    o= vacuum_cleaner(p.genome)\n",
    "                else:\n",
    "                    o = mutation(p.genome)\n",
    "                #o = mutation(p.genome)\n",
    "                   \n",
    "            else:\n",
    "                p1 = tournament(population)\n",
    "                p2 = tournament(population)\n",
    "                o = cross_over(p1.genome, p2.genome)\n",
    "            offspring.append(Individual(o, fitness_function(o)))\n",
    "        population += offspring  #offspring added to the population\n",
    "        \n",
    "        #population=deClonizator(population)\n",
    "        population=list(dict.fromkeys(population))  #deletion of duplicates\n",
    "        \n",
    "        population = sorted(population, key=lambda i: i.fitTuple, reverse=True)[:POPULATION_SIZE]  #cut the population to the original size\n",
    "        if g%100==0:\n",
    "            fitArray_.append(copy(fittestIndividual.fitTuple[1]))\n",
    "        if(population[0].fitTuple>fittestIndividual.fitTuple):  #copy the fittest individual\n",
    "            fittestIndividual=copy(population[0])\n",
    "    end = time.time()\n",
    "    delta=format(end-start, '.2f')\n",
    "    #fitCall=NUM_GENERATIONS*OFFSPRING_SIZE #take note of #ofFitnessFunctionCall\n",
    "    #print( \"time: \" + str(delta)+ \" fit call \" + str(fitCall))\n",
    "    print( \"time: \" + str(delta) + \" fittest: \" + str(fittestIndividual.fitTuple))\n",
    "    return fittestIndividual,fitArray_\n"
   ]
  },
  {
   "cell_type": "code",
   "execution_count": 7,
   "metadata": {},
   "outputs": [],
   "source": [
    "def GAnoClean(population, NUM_GENERATIONS, OFFSPRING_SIZE, mutation_rate,POPULATION_SIZE):\n",
    "    start = time.time()                 #to take note of the computation time\n",
    "    fittestIndividual=copy(population[0])\n",
    "    fitArray_=list()\n",
    "    for g in range(NUM_GENERATIONS):\n",
    "        offspring = list()\n",
    "        for i in range(OFFSPRING_SIZE): #generation of the offSprings\n",
    "            if random.random() < mutation_rate:\n",
    "                p = tournament(population)\n",
    "                o = mutation(p.genome)\n",
    "                #o = mutation(p.genome)\n",
    "                   \n",
    "            else:\n",
    "                p1 = tournament(population)\n",
    "                p2 = tournament(population)\n",
    "                o = cross_over(p1.genome, p2.genome)\n",
    "            offspring.append(Individual(o, fitness_function(o)))\n",
    "        population += offspring  #offspring added to the population\n",
    "        \n",
    "        #population=deClonizator(population)\n",
    "        population=list(dict.fromkeys(population))  #deletion of duplicates\n",
    "        \n",
    "        population = sorted(population, key=lambda i: i.fitTuple, reverse=True)[:POPULATION_SIZE]  #cut the population to the original size\n",
    "        if g%100==0:\n",
    "            fitArray_.append(copy(fittestIndividual.fitTuple[1]))\n",
    "        if(population[0].fitTuple>fittestIndividual.fitTuple):  #copy the fittest individual\n",
    "            fittestIndividual=copy(population[0])\n",
    "    end = time.time()\n",
    "    delta=format(end-start, '.2f')\n",
    "    fitCall=NUM_GENERATIONS*OFFSPRING_SIZE #take note of #ofFitnessFunctionCall\n",
    "    #print( \"time: \" + str(delta)+ \" fit call \" + str(fitCall))\n",
    "    print( \"time: \" + str(delta) + \" fittest: \" + str(fittestIndividual.fitTuple))\n",
    "    return fittestIndividual,fitArray_\n"
   ]
  },
  {
   "cell_type": "code",
   "execution_count": 8,
   "metadata": {},
   "outputs": [
    {
     "name": "stdout",
     "output_type": "stream",
     "text": [
      "time: 4.91 fittest: (500, -1460)\n",
      "time: 9.22 fittest: (500, -2323)\n",
      "[-129941, -1480, -1460, -1460, -1460, -1460, -1460, -1460, -1460, -1460]\n",
      "[-129941, -41641, -34870, -27636, -21250, -16377, -12214, -8871, -5626, -3747]\n"
     ]
    },
    {
     "data": {
      "text/plain": [
       "Text(0, 0.5, 'y - fittest')"
      ]
     },
     "execution_count": 8,
     "metadata": {},
     "output_type": "execute_result"
    },
    {
     "data": {
      "image/png": "[encoded data removed]",
      "text/plain": [
       "<Figure size 432x288 with 1 Axes>"
      ]
     },
     "metadata": {
      "needs_background": "light"
     },
     "output_type": "display_data"
    }
   ],
   "source": [
    "population_SIZE=20\n",
    "PROBLEM_SIZE=500\n",
    "OFFSPRING_SIZE=20\n",
    "mutation_rate=0.5\n",
    "cleaner_rate=10\n",
    "NUM_GENERATIONS=1000\n",
    "i=0\n",
    "ALL_LISTS=problem(PROBLEM_SIZE,42)\n",
    "fittest=list()\n",
    "\n",
    "population = list()\n",
    "\n",
    "for genome in [tuple([random.choice([1, 0]) for _ in range(len(ALL_LISTS))]) for _ in range(population_SIZE)]:\n",
    "    population.append(Individual(genome,fitness_function(genome)))\n",
    "\n",
    "population = sorted(population, key=lambda i: i.fitTuple, reverse=True)\n",
    "fittest_ind,cleanFitArray=GAclean(population,NUM_GENERATIONS,OFFSPRING_SIZE,mutation_rate,population_SIZE,cleaner_rate)\n",
    "fittest_ind,fitArray=GAnoClean(population,NUM_GENERATIONS,OFFSPRING_SIZE,mutation_rate,population_SIZE)\n",
    "print(cleanFitArray)\n",
    "print(fitArray)\n",
    "range_=range(0,1000,100)\n",
    "plt.plot(range_,cleanFitArray, fitArray,marker='o', markerfacecolor='blue', markersize=3)\n",
    "plt.xlabel('x - problem size')\n",
    "plt.ylabel('y - fittest')\n"
   ]
  },
  {
   "cell_type": "markdown",
   "metadata": {},
   "source": [
    "##GA strategy2"
   ]
  },
  {
   "cell_type": "code",
   "execution_count": 9,
   "metadata": {},
   "outputs": [],
   "source": [
    "def GAstrategy2(population, NUM_GENERATIONS, OFFSPRING_SIZE, mutation_rate,POPULATION_SIZE,cleaner_rate):\n",
    "    start = time.time()                 #to take note of the computation time\n",
    "    fittestIndividual=copy(population[0])\n",
    "    for g in range(NUM_GENERATIONS):\n",
    "        for i in range(OFFSPRING_SIZE):\n",
    "            o=0\n",
    "            if random.random() < mutation_rate:\n",
    "                p = tournament(population)\n",
    "                if g<NUM_GENERATIONS/cleaner_rate:\n",
    "                    o= vacuum_cleaner(p.genome)\n",
    "                else:\n",
    "                    o = mutation(p.genome)\n",
    "            if random.random() < 0.5:\n",
    "                p1 = tournament(population)\n",
    "                p2 = tournament(population)\n",
    "                o = cross_over(p1.genome, p2.genome)\n",
    "            if o:                \n",
    "                population.append(Individual(o, fitness_function(o)))\n",
    "                population = sorted(population, key=lambda i: i.fitTuple, reverse=True)\n",
    "                del population[-1] \n",
    "            #in the strategy2 the population is cut every time we add a new individual\n",
    "        \n",
    "        #population=deClonizator(population)\n",
    "        population=list(dict.fromkeys(population))  #deletion of duplicates\n",
    "\n",
    "        if(population[0].fitTuple>fittestIndividual.fitTuple):\n",
    "            fittestIndividual=copy(population[0])\n",
    "    end = time.time()\n",
    "    delta=format(end-start, '.2f')\n",
    "    #fitCall=NUM_GENERATIONS*OFFSPRING_SIZE #take note of #ofFitnessFunctionCall\n",
    "    #print( \"time: \" + str(delta)+ \" fit call \" + str(fitCall))\n",
    "    print( \"time: \" + str(delta) + \" fittest: \" + str(fittestIndividual.fitTuple))\n",
    "    return fittestIndividual\n"
   ]
  },
  {
   "cell_type": "markdown",
   "metadata": {},
   "source": [
    "##Vary the population size"
   ]
  },
  {
   "cell_type": "code",
   "execution_count": 10,
   "metadata": {},
   "outputs": [
    {
     "name": "stdout",
     "output_type": "stream",
     "text": [
      "time: 4.08 fittest: (500, -1951)\n",
      "time: 3.98 fittest: (500, -1688)\n",
      "time: 3.92 fittest: (500, -1668)\n",
      "time: 4.06 fittest: (500, -1644)\n",
      "time: 4.49 fittest: (500, -1655)\n",
      "time: 5.20 fittest: (500, -1591)\n",
      "time: 6.43 fittest: (500, -1572)\n"
     ]
    },
    {
     "data": {
      "text/plain": [
       "Text(0, 0.5, 'y - fittest')"
      ]
     },
     "execution_count": 10,
     "metadata": {},
     "output_type": "execute_result"
    },
    {
     "data": {
      "image/png": "[encoded data removed]",
      "text/plain": [
       "<Figure size 432x288 with 1 Axes>"
      ]
     },
     "metadata": {
      "needs_background": "light"
     },
     "output_type": "display_data"
    }
   ],
   "source": [
    "population_SIZE=[4,8,10,20,50,100,200]\n",
    "PROBLEM_SIZE=500\n",
    "OFFSPRING_SIZE=20\n",
    "mutation_rate=0.3\n",
    "cleaner_rate=20\n",
    "NUM_GENERATIONS=1000\n",
    "N=3\n",
    "ALL_LISTS=problem(PROBLEM_SIZE,42)\n",
    "fittest=list()\n",
    "i=0\n",
    "for pop_size in population_SIZE:\n",
    "    population = list()\n",
    "\n",
    "    for genome in [tuple([random.choice([1, 0]) for _ in range(len(ALL_LISTS))]) for _ in range(pop_size)]:\n",
    "        population.append(Individual(genome,fitness_function(genome)))\n",
    "\n",
    "    population = sorted(population, key=lambda i: i.fitTuple, reverse=True)\n",
    "    fittest_ind=GA(population,NUM_GENERATIONS,OFFSPRING_SIZE,mutation_rate,pop_size,cleaner_rate)\n",
    "    fittest.append(fittest_ind.fitTuple[1])\n",
    "plt.plot(population_SIZE,fittest, marker='o', markerfacecolor='blue', markersize=8)\n",
    "plt.xlabel('x - population size')\n",
    "# naming the y axis\n",
    "plt.ylabel('y - fittest')\n"
   ]
  },
  {
   "cell_type": "markdown",
   "metadata": {},
   "source": [
    "##Vary the offspring size"
   ]
  },
  {
   "cell_type": "code",
   "execution_count": 11,
   "metadata": {},
   "outputs": [
    {
     "name": "stdout",
     "output_type": "stream",
     "text": [
      "time: 1.06 fittest: (500, -1799)\n",
      "time: 2.17 fittest: (500, -1663)\n",
      "time: 4.15 fittest: (500, -1632)\n",
      "time: 8.17 fittest: (500, -1769)\n",
      "time: 9.83 fittest: (500, -1685)\n"
     ]
    },
    {
     "data": {
      "text/plain": [
       "Text(0, 0.5, 'y - fittest')"
      ]
     },
     "execution_count": 11,
     "metadata": {},
     "output_type": "execute_result"
    },
    {
     "data": {
      "image/png": "[encoded data removed]",
      "text/plain": [
       "<Figure size 432x288 with 1 Axes>"
      ]
     },
     "metadata": {
      "needs_background": "light"
     },
     "output_type": "display_data"
    }
   ],
   "source": [
    "population_SIZE=20\n",
    "PROBLEM_SIZE=500\n",
    "OFFSPRING_SIZE=[4,10,20,40,50]\n",
    "mutation_rate=0.3\n",
    "cleaner_rate=20\n",
    "NUM_GENERATIONS=1000\n",
    "N=3\n",
    "ALL_LISTS=problem(PROBLEM_SIZE,42)\n",
    "fittest=list()\n",
    "i=0\n",
    "for off_size in OFFSPRING_SIZE:\n",
    "    population = list()\n",
    "\n",
    "    for genome in [tuple([random.choice([1, 0]) for _ in range(len(ALL_LISTS))]) for _ in range(population_SIZE)]:\n",
    "        population.append(Individual(genome,fitness_function(genome)))\n",
    "\n",
    "    population = sorted(population, key=lambda i: i.fitTuple, reverse=True)\n",
    "    fittest_ind=GA(population,NUM_GENERATIONS,off_size,mutation_rate,population_SIZE,cleaner_rate)\n",
    "    fittest.append(fittest_ind.fitTuple[1])\n",
    "plt.plot(OFFSPRING_SIZE,fittest, marker='o', markerfacecolor='blue', markersize=8)\n",
    "plt.xlabel('x - offspring size')\n",
    "# naming the y axis\n",
    "plt.ylabel('y - fittest')\n"
   ]
  },
  {
   "cell_type": "markdown",
   "metadata": {},
   "source": [
    "##Vary the mutation rate"
   ]
  },
  {
   "cell_type": "code",
   "execution_count": 12,
   "metadata": {},
   "outputs": [
    {
     "name": "stdout",
     "output_type": "stream",
     "text": [
      "time: 4.56 fittest: (500, -1642)\n",
      "time: 5.09 fittest: (500, -1704)\n",
      "time: 4.60 fittest: (500, -1629)\n",
      "time: 4.61 fittest: (500, -1509)\n",
      "time: 4.79 fittest: (500, -1609)\n"
     ]
    },
    {
     "data": {
      "text/plain": [
       "Text(0, 0.5, 'y - fittest')"
      ]
     },
     "execution_count": 12,
     "metadata": {},
     "output_type": "execute_result"
    },
    {
     "data": {
      "image/png": "[encoded data removed]",
      "text/plain": [
       "<Figure size 432x288 with 1 Axes>"
      ]
     },
     "metadata": {
      "needs_background": "light"
     },
     "output_type": "display_data"
    }
   ],
   "source": [
    "population_SIZE=20\n",
    "PROBLEM_SIZE=500\n",
    "OFFSPRING_SIZE=20\n",
    "mutation_rate=[0.1,0.3,0.5,0.7,0.9]\n",
    "cleaner_rate=20\n",
    "NUM_GENERATIONS=1000\n",
    "ALL_LISTS=problem(PROBLEM_SIZE,42)\n",
    "fittest=list()\n",
    "i=0\n",
    "for mut in mutation_rate:\n",
    "    population = list()\n",
    "\n",
    "    for genome in [tuple([random.choice([1, 0]) for _ in range(len(ALL_LISTS))]) for _ in range(population_SIZE)]:\n",
    "        population.append(Individual(genome,fitness_function(genome)))\n",
    "\n",
    "    population = sorted(population, key=lambda i: i.fitTuple, reverse=True)\n",
    "    fittest_ind=GA(population,NUM_GENERATIONS,OFFSPRING_SIZE,mut,population_SIZE,cleaner_rate)\n",
    "    fittest.append(fittest_ind.fitTuple[1])\n",
    "plt.plot(mutation_rate,fittest, marker='o', markerfacecolor='blue', markersize=8)\n",
    "plt.xlabel('x - mutation rate')\n",
    "# naming the y axis\n",
    "plt.ylabel('y - fittest')\n"
   ]
  },
  {
   "cell_type": "markdown",
   "metadata": {},
   "source": [
    "##Vary the cleaner rate"
   ]
  },
  {
   "cell_type": "code",
   "execution_count": 13,
   "metadata": {},
   "outputs": [
    {
     "name": "stdout",
     "output_type": "stream",
     "text": [
      "time: 5.07 fittest: (500, -1595)\n",
      "time: 4.51 fittest: (500, -1607)\n",
      "time: 4.26 fittest: (500, -1736)\n",
      "time: 4.20 fittest: (500, -1795)\n",
      "time: 4.09 fittest: (500, -1777)\n",
      "time: 4.07 fittest: (500, -1724)\n"
     ]
    },
    {
     "data": {
      "text/plain": [
       "Text(0, 0.5, 'y - fittest')"
      ]
     },
     "execution_count": 13,
     "metadata": {},
     "output_type": "execute_result"
    },
    {
     "data": {
      "image/png": "[encoded data removed]",
      "text/plain": [
       "<Figure size 432x288 with 1 Axes>"
      ]
     },
     "metadata": {
      "needs_background": "light"
     },
     "output_type": "display_data"
    }
   ],
   "source": [
    "population_SIZE=20\n",
    "PROBLEM_SIZE=500\n",
    "OFFSPRING_SIZE=20\n",
    "mutation_rate=0.7\n",
    "cleaner_rate=[10,20,30,50,60,70]\n",
    "NUM_GENERATIONS=1000\n",
    "ALL_LISTS=problem(PROBLEM_SIZE,42)\n",
    "fittest=list()\n",
    "i=0\n",
    "for clean_ in cleaner_rate:\n",
    "    population = list()\n",
    "\n",
    "    for genome in [tuple([random.choice([1, 0]) for _ in range(len(ALL_LISTS))]) for _ in range(population_SIZE)]:\n",
    "        population.append(Individual(genome,fitness_function(genome)))\n",
    "\n",
    "    population = sorted(population, key=lambda i: i.fitTuple, reverse=True)\n",
    "    fittest_ind=GA(population,NUM_GENERATIONS,OFFSPRING_SIZE,mutation_rate,population_SIZE,clean_)\n",
    "    fittest.append(fittest_ind.fitTuple[1])\n",
    "plt.plot(cleaner_rate,fittest, marker='o', markerfacecolor='blue', markersize=8)\n",
    "plt.xlabel('x - mutation rate')\n",
    "# naming the y axis\n",
    "plt.ylabel('y - fittest')"
   ]
  },
  {
   "cell_type": "markdown",
   "metadata": {},
   "source": [
    "##Final trial\n",
    "\n",
    "To let the computation be feasible have been chosen small but decent value of population and offspring size instead of the best ones "
   ]
  },
  {
   "cell_type": "code",
   "execution_count": 14,
   "metadata": {},
   "outputs": [
    {
     "name": "stdout",
     "output_type": "stream",
     "text": [
      "time: 0.15 fittest: (5, -5)\n",
      "time: 0.15 fittest: (5, -5)\n",
      "peak memory: 130.32 MiB, increment: 0.19 MiB\n",
      "time: 0.21 fittest: (10, -10)\n",
      "time: 0.21 fittest: (10, -10)\n",
      "peak memory: 130.09 MiB, increment: -0.23 MiB\n",
      "time: 0.21 fittest: (20, -23)\n",
      "time: 0.21 fittest: (20, -28)\n",
      "peak memory: 130.11 MiB, increment: 0.02 MiB\n",
      "time: 1.04 fittest: (100, -229)\n",
      "peak memory: 130.44 MiB, increment: 0.29 MiB\n",
      "time: 4.65 fittest: (500, -1460)\n",
      "peak memory: 136.55 MiB, increment: 1.08 MiB\n",
      "time: 10.59 fittest: (1000, -3728)\n",
      "peak memory: 166.24 MiB, increment: 0.80 MiB\n",
      "time: 29.00 fittest: (2000, -9209)\n",
      "peak memory: 284.47 MiB, increment: 4.73 MiB\n"
     ]
    }
   ],
   "source": [
    "population_SIZE=20\n",
    "PROBLEM_SIZE=[5,10,20,100,500,1000,2000]\n",
    "PROBLEM_SIZE_=[5000,10000]\n",
    "PROBLEM_SIZE_=[20000,50000] #unfeasible\n",
    "OFFSPRING_SIZE=20\n",
    "mutation_rate=0.5\n",
    "cleaner_rate=10\n",
    "NUM_GENERATIONS=1000\n",
    "for prbl_size in PROBLEM_SIZE:\n",
    "    ALL_LISTS=problem(prbl_size,42)\n",
    "    fittest=list()\n",
    "\n",
    "    population = list()\n",
    "\n",
    "    for genome in [tuple([random.choice([1, 0]) for _ in range(len(ALL_LISTS))]) for _ in range(population_SIZE)]:\n",
    "        population.append(Individual(genome,fitness_function(genome)))\n",
    "\n",
    "    population = sorted(population, key=lambda i: i.fitTuple, reverse=True)\n",
    "    %memit fittest_ind=GA(population,NUM_GENERATIONS,OFFSPRING_SIZE,mutation_rate,population_SIZE,cleaner_rate)\n",
    "\n"
   ]
  },
  {
   "cell_type": "markdown",
   "metadata": {},
   "source": [
    "##Strategy2"
   ]
  },
  {
   "cell_type": "code",
   "execution_count": 15,
   "metadata": {},
   "outputs": [
    {
     "name": "stdout",
     "output_type": "stream",
     "text": [
      "time: 0.11 fittest: (5, -5)\n",
      "time: 0.11 fittest: (5, -5)\n",
      "peak memory: 130.55 MiB, increment: -4.09 MiB\n",
      "time: 0.17 fittest: (10, -13)\n",
      "time: 0.16 fittest: (10, -14)\n",
      "peak memory: 130.46 MiB, increment: -0.09 MiB\n",
      "time: 0.18 fittest: (20, -31)\n",
      "time: 0.16 fittest: (20, -33)\n",
      "peak memory: 130.48 MiB, increment: 0.02 MiB\n",
      "time: 0.69 fittest: (100, -263)\n",
      "peak memory: 130.81 MiB, increment: 0.20 MiB\n",
      "time: 3.11 fittest: (500, -1939)\n",
      "peak memory: 136.32 MiB, increment: 0.73 MiB\n",
      "time: 7.53 fittest: (1000, -4114)\n",
      "peak memory: 166.02 MiB, increment: 0.00 MiB\n",
      "time: 18.02 fittest: (2000, -9438)\n",
      "peak memory: 281.43 MiB, increment: 1.66 MiB\n"
     ]
    }
   ],
   "source": [
    "population_SIZE=20\n",
    "PROBLEM_SIZE=[5,10,20,100,500,1000,2000]\n",
    "PROBLEM_SIZE_=[5000,10000]\n",
    "OFFSPRING_SIZE=20\n",
    "mutation_rate=0.3\n",
    "cleaner_rate=10\n",
    "NUM_GENERATIONS=1000\n",
    "i=0\n",
    "for prbl_size in PROBLEM_SIZE:\n",
    "    ALL_LISTS=problem(prbl_size,42)\n",
    "    fittest=list()\n",
    "\n",
    "    population = list()\n",
    "\n",
    "    for genome in [tuple([random.choice([1, 0]) for _ in range(len(ALL_LISTS))]) for _ in range(population_SIZE)]:\n",
    "        population.append(Individual(genome,fitness_function(genome)))\n",
    "\n",
    "    population = sorted(population, key=lambda i: i.fitTuple, reverse=True)\n",
    "    %memit fittest_ind=GAstrategy2(population,NUM_GENERATIONS,OFFSPRING_SIZE,mutation_rate,population_SIZE,cleaner_rate)\n",
    "    fittest.append(fittest_ind.fitTuple[1])\n"
   ]
  },
  {
   "cell_type": "code",
   "execution_count": null,
   "metadata": {},
   "outputs": [],
   "source": []
  }
 ],
 "metadata": {
  "kernelspec": {
   "display_name": "Python 3.9.13 64-bit (microsoft store)",
   "language": "python",
   "name": "python3"
  },
  "language_info": {
   "codemirror_mode": {
    "name": "ipython",
    "version": 3
   },
   "file_extension": ".py",
   "mimetype": "text/x-python",
   "name": "python",
   "nbconvert_exporter": "python",
   "pygments_lexer": "ipython3",
   "version": "3.9.13"
  },
  "orig_nbformat": 4,
  "vscode": {
   "interpreter": {
    "hash": "23b4a3e8622309bcc6db3d5cc6eb73d60ab98d9ec23bad6a26b709981ccb403a"
   }
  }
 },
 "nbformat": 4,
 "nbformat_minor": 2
}
