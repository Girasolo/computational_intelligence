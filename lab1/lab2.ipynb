{
 "cells": [
  {
   "cell_type": "code",
   "execution_count": 19,
   "metadata": {},
   "outputs": [],
   "source": [
    "import random\n",
    "from collections import namedtuple\n",
    "import numpy as np\n",
    "import matplotlib.pyplot as plt\n",
    "from copy import copy\n",
    "import time\n"
   ]
  },
  {
   "cell_type": "code",
   "execution_count": 3,
   "metadata": {},
   "outputs": [],
   "source": [
    "def problem(N, seed=None):\n",
    "    random.seed(seed)\n",
    "    return list(sorted({\n",
    "        tuple(set(random.randint(0, N - 1) for n in range(random.randint(N // 5, N // 2))))\n",
    "        for n in range(random.randint(N, N * 5))})\n",
    "    )"
   ]
  },
  {
   "cell_type": "code",
   "execution_count": 4,
   "metadata": {},
   "outputs": [],
   "source": [
    "Individual= namedtuple('Individual',['genome','fitTuple']) \n",
    "\n",
    "def fitness_function(genome: list):\n",
    "    '''Returns a tuple (number_of_covered_elements, -weigth)'''\n",
    "    #this fitness function allows the precence of not optimal solution. The hierarchy of them shold be based at first of the #ofCoverdEl and then on the lighter\n",
    "    num_covered_elements = set()\n",
    "    weigth = 0\n",
    "    for (i, list_) in enumerate(ALL_LISTS):\n",
    "        if genome[i]:\n",
    "            num_covered_elements.update(list_)\n",
    "            weigth += len(list_)\n",
    "    \n",
    "    return len(num_covered_elements), -weigth #the reason why weight is negative is we want to minimize it"
   ]
  },
  {
   "cell_type": "code",
   "execution_count": 6,
   "metadata": {},
   "outputs": [],
   "source": [
    "from random import choice\n",
    "\n",
    "\n",
    "def tournament(population, tournament_size=2):\n",
    "    return max(random.choices(population, k=tournament_size), key=lambda i: i.fitTuple)\n",
    "\n",
    "\n",
    "def cross_over(g1, g2):\n",
    "    cut = random.randint(0, len(ALL_LISTS)-1)\n",
    "    choice=random.randint(0,2)\n",
    "    if choice==0:\n",
    "        return g1[:cut] + g2[cut:]\n",
    "    else:\n",
    "        return g2[:cut] + g1[cut:]\n",
    "\n",
    "\n",
    "def mutation(g):\n",
    "    point = random.randint(0, len(ALL_LISTS) - 1)\n",
    "    return g[:point] + (1 - g[point],) + g[point + 1 :]\n",
    "\n",
    "def multiple_mutation(g):\n",
    "    '''using multiple it's worse, because mutation should be small'''\n",
    "    nflips=random.randint(1,100)\n",
    "    for _ in range(nflips):\n",
    "        g=mutation(g)\n",
    "    return g\n",
    "\n",
    "def vacuum_cleaner(g):\n",
    "    '''takes some weight off by switching off a list'''\n",
    "    point=random.randint(0, len(ALL_LISTS) - 1)\n",
    "    if g[point] == 1:\n",
    "        return g[:point] + (0,) + g[point + 1 :]\n",
    "    else:\n",
    "        return g\n",
    "    \n",
    "    \n",
    "\n",
    "def deClonizator(population):\n",
    "    '''returns a population without duplicates'''\n",
    "    unique_population=list()\n",
    "    for individual in population:\n",
    "        if individual not in unique_population:\n",
    "            unique_population.append(individual)\n",
    "    return unique_population\n",
    "\n",
    "\n"
   ]
  },
  {
   "cell_type": "code",
   "execution_count": 25,
   "metadata": {},
   "outputs": [],
   "source": [
    "\n",
    "def GA(population, NUM_GENERATIONS, OFFSPRING_SIZE, mutation_rate,POPULATION_SIZE):\n",
    "    start = time.time()                 #to take note of the computation time\n",
    "    fitCall=0                           #take note of #ofFitnessFunctionCall\n",
    "    fittestIndividual=copy(population[0])\n",
    "    for g in range(NUM_GENERATIONS):\n",
    "        offspring = list()\n",
    "        for i in range(OFFSPRING_SIZE): #generation of the offSprings\n",
    "            if random.random() < 0.5:\n",
    "                p = tournament(population)\n",
    "                #if random.random() < 0.5:\n",
    "                #    o = mutation(p.genome)\n",
    "                o = mutation(p.genome)\n",
    "\n",
    "                #else:\n",
    "                #   o= vacuum_cleaner(p.genome)\n",
    "            else:\n",
    "                p1 = tournament(population)\n",
    "                p2 = tournament(population)\n",
    "                o = cross_over(p1.genome, p2.genome)\n",
    "            offspring.append(Individual(o, fitness_function(o)))\n",
    "            fitCall+=1\n",
    "        population += offspring  #offspring added to the population\n",
    "        \n",
    "        #population=deClonizator(population)\n",
    "        population=list(dict.fromkeys(population))  #deletion of duplicates\n",
    "        \n",
    "\n",
    "        population = sorted(population, key=lambda i: i.fitTuple, reverse=True)[:POPULATION_SIZE]  #cut the population to the original size\n",
    "        if(population[0].fitTuple>fittestIndividual.fitTuple):  #copy the fittest individual\n",
    "            fittestIndividual=copy(population[0])\n",
    "    end = time.time()\n",
    "    print( \"time: \" + str(end - start)+ \" fit call \" + str(fitCall))\n",
    "    return fittestIndividual\n"
   ]
  },
  {
   "cell_type": "code",
   "execution_count": 27,
   "metadata": {},
   "outputs": [],
   "source": [
    "def GAstrategy2(population, NUM_GENERATIONS, OFFSPRING_SIZE, mutation_rate,POPULATION_SIZE):\n",
    "    start = time.time()                 #to take note of the computation time\n",
    "    fitCall=0                           #take note of #ofFitnessFunctionCall\n",
    "    fittestIndividual=copy(population[0])\n",
    "    for g in range(NUM_GENERATIONS):\n",
    "        offspring = list()\n",
    "        for i in range(OFFSPRING_SIZE):\n",
    "            if random.random() < 0.5:\n",
    "                p = tournament(population)\n",
    "                #if random.random() < 0.5:\n",
    "                #    o = mutation(p.genome)\n",
    "                o = mutation(p.genome)\n",
    "\n",
    "                #else:\n",
    "                #   o= vacuum_cleaner(p.genome)\n",
    "            if random.random() < 0.5:\n",
    "                p1 = tournament(population)\n",
    "                p2 = tournament(population)\n",
    "                o = cross_over(p1.genome, p2.genome)            \n",
    "            population.append(Individual(o, fitness_function(o)))\n",
    "            population = sorted(population, key=lambda i: i.fitTuple, reverse=True)\n",
    "            del population[-1] \n",
    "            #in the strategy2 the population is cut every time we add a new individual\n",
    "        \n",
    "        #population=deClonizator(population)\n",
    "        population=list(dict.fromkeys(population))  #deletion of duplicates\n",
    "\n",
    "        if(population[0].fitTuple>fittestIndividual.fitTuple):\n",
    "            fittestIndividual=copy(population[0])\n",
    "    end = time.time()\n",
    "    print( \"time: \" + str(end - start)+ \" fit call \" + str(fitCall))\n",
    "    return fittestIndividual\n"
   ]
  },
  {
   "cell_type": "markdown",
   "metadata": {},
   "source": [
    "##Vary the population size"
   ]
  },
  {
   "cell_type": "code",
   "execution_count": 10,
   "metadata": {},
   "outputs": [
    {
     "name": "stdout",
     "output_type": "stream",
     "text": [
      "(100, -219)\n",
      "(100, -237)\n",
      "(100, -253)\n",
      "(100, -232)\n",
      "(100, -224)\n",
      "(100, -206)\n",
      "(100, -554)\n"
     ]
    },
    {
     "data": {
      "text/plain": [
       "Text(0, 0.5, 'y - fittest')"
      ]
     },
     "execution_count": 10,
     "metadata": {},
     "output_type": "execute_result"
    },
    {
     "data": {
      "image/png": "[encoded data removed]",
      "text/plain": [
       "<Figure size 432x288 with 1 Axes>"
      ]
     },
     "metadata": {
      "needs_background": "light"
     },
     "output_type": "display_data"
    }
   ],
   "source": [
    "population_SIZE=[4,8,10,20,50,100,200]\n",
    "PROBLEM_SIZE=100\n",
    "OFFSPRING_SIZE=20\n",
    "mutation_rate=0.5\n",
    "NUM_GENERATIONS=1000\n",
    "N=3\n",
    "ALL_LISTS=problem(PROBLEM_SIZE,42)\n",
    "fittest=list()\n",
    "i=0\n",
    "for pop_size in population_SIZE:\n",
    "    population = list()\n",
    "\n",
    "    for genome in [tuple([random.choice([1, 0]) for _ in range(len(ALL_LISTS))]) for _ in range(pop_size)]:\n",
    "        population.append(Individual(genome,fitness_function(genome)))\n",
    "\n",
    "    population = sorted(population, key=lambda i: i.fitTuple, reverse=True)\n",
    "    fittest_ind=GA(population,NUM_GENERATIONS,OFFSPRING_SIZE,mutation_rate,pop_size)\n",
    "    print(fittest_ind.fitTuple)\n",
    "    fittest.append(fittest_ind.fitTuple[1])\n",
    "plt.plot(population_SIZE,fittest, marker='o', markerfacecolor='blue', markersize=8)\n",
    "plt.xlabel('x - population size')\n",
    "# naming the y axis\n",
    "plt.ylabel('y - fittest')\n"
   ]
  },
  {
   "cell_type": "markdown",
   "metadata": {},
   "source": [
    "##Vary the offspring size"
   ]
  },
  {
   "cell_type": "code",
   "execution_count": null,
   "metadata": {},
   "outputs": [
    {
     "name": "stdout",
     "output_type": "stream",
     "text": [
      "(100, -1052)\n",
      "(100, -215)\n",
      "(100, -227)\n",
      "(100, -209)\n",
      "(100, -207)\n"
     ]
    },
    {
     "data": {
      "text/plain": [
       "Text(0, 0.5, 'y - fittest')"
      ]
     },
     "execution_count": 343,
     "metadata": {},
     "output_type": "execute_result"
    },
    {
     "data": {
      "image/png": "[encoded data removed]",
      "text/plain": [
       "<Figure size 432x288 with 1 Axes>"
      ]
     },
     "metadata": {
      "needs_background": "light"
     },
     "output_type": "display_data"
    }
   ],
   "source": [
    "population_SIZE=20\n",
    "PROBLEM_SIZE=100\n",
    "OFFSPRING_SIZE=[4,10,20,40,50]\n",
    "mutation_rate=0.5\n",
    "NUM_GENERATIONS=1000\n",
    "N=3\n",
    "ALL_LISTS=problem(PROBLEM_SIZE,42)\n",
    "fittest=list()\n",
    "i=0\n",
    "for off_size in OFFSPRING_SIZE:\n",
    "    population = list()\n",
    "\n",
    "    for genome in [tuple([random.choice([1, 0]) for _ in range(len(ALL_LISTS))]) for _ in range(population_SIZE)]:\n",
    "        population.append(Individual(genome,fitness_function(genome)))\n",
    "\n",
    "    population = sorted(population, key=lambda i: i.fitTuple, reverse=True)\n",
    "    fittest_ind=GA(population,NUM_GENERATIONS,off_size,mutation_rate,population_SIZE)\n",
    "    print(fittest_ind.fitTuple)\n",
    "    fittest.append(fittest_ind.fitTuple[1])\n",
    "plt.plot(OFFSPRING_SIZE,fittest, marker='o', markerfacecolor='blue', markersize=8)\n",
    "plt.xlabel('x - offspring size')\n",
    "# naming the y axis\n",
    "plt.ylabel('y - fittest')\n"
   ]
  },
  {
   "cell_type": "markdown",
   "metadata": {},
   "source": [
    "##Vary the mutation rate"
   ]
  },
  {
   "cell_type": "code",
   "execution_count": null,
   "metadata": {},
   "outputs": [
    {
     "name": "stdout",
     "output_type": "stream",
     "text": [
      "(100, -252)\n",
      "(100, -235)\n",
      "(100, -214)\n",
      "(100, -249)\n",
      "(100, -246)\n"
     ]
    },
    {
     "data": {
      "text/plain": [
       "Text(0, 0.5, 'y - fittest')"
      ]
     },
     "execution_count": 345,
     "metadata": {},
     "output_type": "execute_result"
    },
    {
     "data": {
      "image/png": "[encoded data removed]",
      "text/plain": [
       "<Figure size 432x288 with 1 Axes>"
      ]
     },
     "metadata": {
      "needs_background": "light"
     },
     "output_type": "display_data"
    }
   ],
   "source": [
    "population_SIZE=20\n",
    "PROBLEM_SIZE=100\n",
    "OFFSPRING_SIZE=10\n",
    "mutation_rate=[0.1,0.3,0.5,0.7,0.9]\n",
    "NUM_GENERATIONS=1000\n",
    "N=3\n",
    "ALL_LISTS=problem(PROBLEM_SIZE,42)\n",
    "fittest=list()\n",
    "i=0\n",
    "for mut in mutation_rate:\n",
    "    population = list()\n",
    "\n",
    "    for genome in [tuple([random.choice([1, 0]) for _ in range(len(ALL_LISTS))]) for _ in range(population_SIZE)]:\n",
    "        population.append(Individual(genome,fitness_function(genome)))\n",
    "\n",
    "    population = sorted(population, key=lambda i: i.fitTuple, reverse=True)\n",
    "    fittest_ind=GA(population,NUM_GENERATIONS,OFFSPRING_SIZE,mut,population_SIZE)\n",
    "    print(fittest_ind.fitTuple)\n",
    "    fittest.append(fittest_ind.fitTuple[1])\n",
    "plt.plot(mutation_rate,fittest, marker='o', markerfacecolor='blue', markersize=8)\n",
    "plt.xlabel('x - mutation rate')\n",
    "# naming the y axis\n",
    "plt.ylabel('y - fittest')\n"
   ]
  },
  {
   "cell_type": "markdown",
   "metadata": {},
   "source": [
    "##Final trial\n",
    "\n",
    "To let the computation be feasible have been chosen small but decent value of population and offspring size instead of the best ones "
   ]
  },
  {
   "cell_type": "code",
   "execution_count": 29,
   "metadata": {},
   "outputs": [
    {
     "name": "stdout",
     "output_type": "stream",
     "text": [
      "time: 0.2579224109649658 fit call 20000\n",
      "(5, -5)\n",
      "time: 0.37311434745788574 fit call 20000\n",
      "(10, -10)\n",
      "time: 0.5435895919799805 fit call 20000\n",
      "(20, -26)\n",
      "time: 2.1123247146606445 fit call 20000\n",
      "(100, -215)\n",
      "time: 53.084579944610596 fit call 20000\n",
      "(500, -28743)\n"
     ]
    },
    {
     "ename": "KeyboardInterrupt",
     "evalue": "",
     "output_type": "error",
     "traceback": [
      "\u001b[1;31m---------------------------------------------------------------------------\u001b[0m",
      "\u001b[1;31mKeyboardInterrupt\u001b[0m                         Traceback (most recent call last)",
      "\u001b[1;32m~\\AppData\\Local\\Temp/ipykernel_18180/3274275535.py\u001b[0m in \u001b[0;36m<module>\u001b[1;34m\u001b[0m\n\u001b[0;32m     15\u001b[0m \u001b[1;33m\u001b[0m\u001b[0m\n\u001b[0;32m     16\u001b[0m     \u001b[0mpopulation\u001b[0m \u001b[1;33m=\u001b[0m \u001b[0msorted\u001b[0m\u001b[1;33m(\u001b[0m\u001b[0mpopulation\u001b[0m\u001b[1;33m,\u001b[0m \u001b[0mkey\u001b[0m\u001b[1;33m=\u001b[0m\u001b[1;32mlambda\u001b[0m \u001b[0mi\u001b[0m\u001b[1;33m:\u001b[0m \u001b[0mi\u001b[0m\u001b[1;33m.\u001b[0m\u001b[0mfitTuple\u001b[0m\u001b[1;33m,\u001b[0m \u001b[0mreverse\u001b[0m\u001b[1;33m=\u001b[0m\u001b[1;32mTrue\u001b[0m\u001b[1;33m)\u001b[0m\u001b[1;33m\u001b[0m\u001b[1;33m\u001b[0m\u001b[0m\n\u001b[1;32m---> 17\u001b[1;33m     \u001b[0mfittest_ind\u001b[0m\u001b[1;33m=\u001b[0m\u001b[0mGA\u001b[0m\u001b[1;33m(\u001b[0m\u001b[0mpopulation\u001b[0m\u001b[1;33m,\u001b[0m\u001b[0mNUM_GENERATIONS\u001b[0m\u001b[1;33m,\u001b[0m\u001b[0mOFFSPRING_SIZE\u001b[0m\u001b[1;33m,\u001b[0m\u001b[0mmutation_rate\u001b[0m\u001b[1;33m,\u001b[0m\u001b[0mpopulation_SIZE\u001b[0m\u001b[1;33m)\u001b[0m\u001b[1;33m\u001b[0m\u001b[1;33m\u001b[0m\u001b[0m\n\u001b[0m\u001b[0;32m     18\u001b[0m     \u001b[0mprint\u001b[0m\u001b[1;33m(\u001b[0m\u001b[0mfittest_ind\u001b[0m\u001b[1;33m.\u001b[0m\u001b[0mfitTuple\u001b[0m\u001b[1;33m)\u001b[0m\u001b[1;33m\u001b[0m\u001b[1;33m\u001b[0m\u001b[0m\n\u001b[0;32m     19\u001b[0m     \u001b[0mfittest\u001b[0m\u001b[1;33m.\u001b[0m\u001b[0mappend\u001b[0m\u001b[1;33m(\u001b[0m\u001b[0mfittest_ind\u001b[0m\u001b[1;33m.\u001b[0m\u001b[0mfitTuple\u001b[0m\u001b[1;33m[\u001b[0m\u001b[1;36m1\u001b[0m\u001b[1;33m]\u001b[0m\u001b[1;33m)\u001b[0m\u001b[1;33m\u001b[0m\u001b[1;33m\u001b[0m\u001b[0m\n",
      "\u001b[1;32m~\\AppData\\Local\\Temp/ipykernel_18180/3630883571.py\u001b[0m in \u001b[0;36mGA\u001b[1;34m(population, NUM_GENERATIONS, OFFSPRING_SIZE, mutation_rate, POPULATION_SIZE)\u001b[0m\n\u001b[0;32m     20\u001b[0m             \u001b[1;31m#fitness_log.append((g + 1, f))\u001b[0m\u001b[1;33m\u001b[0m\u001b[1;33m\u001b[0m\u001b[0m\n\u001b[0;32m     21\u001b[0m \u001b[1;33m\u001b[0m\u001b[0m\n\u001b[1;32m---> 22\u001b[1;33m             \u001b[0moffspring\u001b[0m\u001b[1;33m.\u001b[0m\u001b[0mappend\u001b[0m\u001b[1;33m(\u001b[0m\u001b[0mIndividual\u001b[0m\u001b[1;33m(\u001b[0m\u001b[0mo\u001b[0m\u001b[1;33m,\u001b[0m \u001b[0mfitness_function\u001b[0m\u001b[1;33m(\u001b[0m\u001b[0mo\u001b[0m\u001b[1;33m)\u001b[0m\u001b[1;33m)\u001b[0m\u001b[1;33m)\u001b[0m\u001b[1;33m\u001b[0m\u001b[1;33m\u001b[0m\u001b[0m\n\u001b[0m\u001b[0;32m     23\u001b[0m             \u001b[0mfitCall\u001b[0m\u001b[1;33m+=\u001b[0m\u001b[1;36m1\u001b[0m\u001b[1;33m\u001b[0m\u001b[1;33m\u001b[0m\u001b[0m\n\u001b[0;32m     24\u001b[0m             \u001b[1;31m#population.append(Individual(o, fitness_function(o)))\u001b[0m\u001b[1;33m\u001b[0m\u001b[1;33m\u001b[0m\u001b[0m\n",
      "\u001b[1;32m~\\AppData\\Local\\Temp/ipykernel_18180/1347696814.py\u001b[0m in \u001b[0;36mfitness_function\u001b[1;34m(genome)\u001b[0m\n\u001b[0;32m      8\u001b[0m         \u001b[1;32mif\u001b[0m \u001b[0mgenome\u001b[0m\u001b[1;33m[\u001b[0m\u001b[0mi\u001b[0m\u001b[1;33m]\u001b[0m\u001b[1;33m:\u001b[0m\u001b[1;33m\u001b[0m\u001b[1;33m\u001b[0m\u001b[0m\n\u001b[0;32m      9\u001b[0m             \u001b[0mnum_covered_elements\u001b[0m\u001b[1;33m.\u001b[0m\u001b[0mupdate\u001b[0m\u001b[1;33m(\u001b[0m\u001b[0mlist_\u001b[0m\u001b[1;33m)\u001b[0m\u001b[1;33m\u001b[0m\u001b[1;33m\u001b[0m\u001b[0m\n\u001b[1;32m---> 10\u001b[1;33m             \u001b[0mweigth\u001b[0m \u001b[1;33m+=\u001b[0m \u001b[0mlen\u001b[0m\u001b[1;33m(\u001b[0m\u001b[0mlist_\u001b[0m\u001b[1;33m)\u001b[0m\u001b[1;33m\u001b[0m\u001b[1;33m\u001b[0m\u001b[0m\n\u001b[0m\u001b[0;32m     11\u001b[0m \u001b[1;33m\u001b[0m\u001b[0m\n\u001b[0;32m     12\u001b[0m     \u001b[1;32mreturn\u001b[0m \u001b[0mlen\u001b[0m\u001b[1;33m(\u001b[0m\u001b[0mnum_covered_elements\u001b[0m\u001b[1;33m)\u001b[0m\u001b[1;33m,\u001b[0m \u001b[1;33m-\u001b[0m\u001b[0mweigth\u001b[0m\u001b[1;33m\u001b[0m\u001b[1;33m\u001b[0m\u001b[0m\n",
      "\u001b[1;31mKeyboardInterrupt\u001b[0m: "
     ]
    }
   ],
   "source": [
    "population_SIZE=20\n",
    "PROBLEM_SIZE=[5,10,20,100,500,1000,2000]\n",
    "OFFSPRING_SIZE=20\n",
    "mutation_rate=0.5\n",
    "NUM_GENERATIONS=1000\n",
    "i=0\n",
    "for prbl_size in PROBLEM_SIZE:\n",
    "    ALL_LISTS=problem(prbl_size,42)\n",
    "    fittest=list()\n",
    "\n",
    "    population = list()\n",
    "\n",
    "    for genome in [tuple([random.choice([1, 0]) for _ in range(len(ALL_LISTS))]) for _ in range(population_SIZE)]:\n",
    "        population.append(Individual(genome,fitness_function(genome)))\n",
    "\n",
    "    population = sorted(population, key=lambda i: i.fitTuple, reverse=True)\n",
    "    fittest_ind=GA(population,NUM_GENERATIONS,OFFSPRING_SIZE,mutation_rate,population_SIZE)\n",
    "    print(fittest_ind.fitTuple)\n",
    "    fittest.append(fittest_ind.fitTuple[1])\n",
    "plt.plot(PROBLEM_SIZE,fittest, marker='o', markerfacecolor='blue', markersize=8)\n",
    "plt.xlabel('x - problem size')\n",
    "# naming the y axis\n",
    "plt.ylabel('y - fittest')\n"
   ]
  },
  {
   "cell_type": "code",
   "execution_count": null,
   "metadata": {},
   "outputs": [],
   "source": [
    "population_SIZE=50\n",
    "PROBLEM_SIZE=[5,10,20,100,500,1000,2000]\n",
    "OFFSPRING_SIZE=20\n",
    "mutation_rate=0.5\n",
    "NUM_GENERATIONS=1000\n",
    "i=0\n",
    "for prbl_size in PROBLEM_SIZE:\n",
    "    ALL_LISTS=problem(prbl_size,42)\n",
    "    fittest=list()\n",
    "\n",
    "    population = list()\n",
    "\n",
    "    for genome in [tuple([random.choice([1, 0]) for _ in range(len(ALL_LISTS))]) for _ in range(population_SIZE)]:\n",
    "        population.append(Individual(genome,fitness_function(genome)))\n",
    "\n",
    "    population = sorted(population, key=lambda i: i.fitTuple, reverse=True)\n",
    "    fittest_ind=GAstrategy2(population,NUM_GENERATIONS,OFFSPRING_SIZE,mutation_rate,population_SIZE)\n",
    "    print(fittest_ind.fitTuple)\n",
    "    fittest.append(fittest_ind.fitTuple[1])\n",
    "plt.plot(PROBLEM_SIZE,fittest, marker='o', markerfacecolor='blue', markersize=8)\n",
    "plt.xlabel('x - problem size')\n",
    "# naming the y axis\n",
    "plt.ylabel('y - fittest')\n"
   ]
  }
 ],
 "metadata": {
  "kernelspec": {
   "display_name": "Python 3.9.13 64-bit (microsoft store)",
   "language": "python",
   "name": "python3"
  },
  "language_info": {
   "codemirror_mode": {
    "name": "ipython",
    "version": 3
   },
   "file_extension": ".py",
   "mimetype": "text/x-python",
   "name": "python",
   "nbconvert_exporter": "python",
   "pygments_lexer": "ipython3",
   "version": "3.9.13"
  },
  "orig_nbformat": 4,
  "vscode": {
   "interpreter": {
    "hash": "23b4a3e8622309bcc6db3d5cc6eb73d60ab98d9ec23bad6a26b709981ccb403a"
   }
  }
 },
 "nbformat": 4,
 "nbformat_minor": 2
}
