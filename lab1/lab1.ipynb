{
 "cells": [
  {
   "cell_type": "code",
   "execution_count": 7,
   "metadata": {},
   "outputs": [],
   "source": [
    "import random\n",
    "import numpy as np\n",
    "\n",
    "N=7\n",
    "SEED=42\n"
   ]
  },
  {
   "cell_type": "code",
   "execution_count": 5,
   "metadata": {},
   "outputs": [],
   "source": [
    "def problem(N, seed=None):\n",
    "    random.seed(seed)\n",
    "    return [\n",
    "        list(set(random.randint(0, N - 1) for n in range(random.randint(N // 5, N // 2))))\n",
    "        for n in range(random.randint(N, N * 5))\n",
    "    ]"
   ]
  },
  {
   "cell_type": "code",
   "execution_count": 4,
   "metadata": {},
   "outputs": [],
   "source": [
    "class State:\n",
    "    def __init__(self, data: np.ndarray):\n",
    "        self._data = data.copy()\n",
    "        self._data.flags.writeable = False\n",
    "\n",
    "    def __hash__(self):\n",
    "        return hash(bytes(self._data))\n",
    "\n",
    "    def __eq__(self, other):\n",
    "        return bytes(self._data) == bytes(other._data)\n",
    "\n",
    "    def __lt__(self, other):\n",
    "        return bytes(self._data) < bytes(other._data)\n",
    "\n",
    "    def __str__(self):\n",
    "        return str(self._data)\n",
    "\n",
    "    def __repr__(self):\n",
    "        return repr(self._data)\n",
    "\n",
    "    @property\n",
    "    def data(self):\n",
    "        return self._data\n",
    "\n",
    "    def copy_data(self):\n",
    "        return self._data.copy()"
   ]
  },
  {
   "cell_type": "code",
   "execution_count": null,
   "metadata": {},
   "outputs": [],
   "source": [
    "def search(\n",
    "    initial_state: State,\n",
    "    goal_test: Callable,\n",
    "    parent_state: dict,\n",
    "    state_cost: dict,\n",
    "    priority_function: Callable,\n",
    "    unit_cost: Callable,\n",
    "):\n",
    "    frontier = PriorityQueue()\n",
    "    parent_state.clear()\n",
    "    state_cost.clear()\n",
    "\n",
    "    state = initial_state\n",
    "    parent_state[state] = None\n",
    "    state_cost[state] = 0\n",
    "\n",
    "    while state is not None and not goal_test(state):\n",
    "        for a in possible_actions(state):\n",
    "            new_state = result(state, a)\n",
    "            cost = unit_cost(a)\n",
    "            if new_state not in state_cost and new_state not in frontier:\n",
    "                parent_state[new_state] = state\n",
    "                state_cost[new_state] = state_cost[state] + cost\n",
    "                frontier.push(new_state, p=priority_function(new_state))\n",
    "                logging.debug(f\"Added new node to frontier (cost={state_cost[new_state]})\")\n",
    "            elif new_state in frontier and state_cost[new_state] > state_cost[state] + cost:\n",
    "                old_cost = state_cost[new_state]\n",
    "                parent_state[new_state] = state\n",
    "                state_cost[new_state] = state_cost[state] + cost\n",
    "                logging.debug(f\"Updated node cost in frontier: {old_cost} -> {state_cost[new_state]}\")\n",
    "        if frontier:\n",
    "            state = frontier.pop()\n",
    "        else:\n",
    "            state = None\n",
    "\n",
    "    path = list()\n",
    "    s = state\n",
    "    while s:\n",
    "        path.append(s.copy_data())\n",
    "        s = parent_state[s]\n",
    "\n",
    "    logging.info(f\"Found a solution in {len(path):,} steps; visited {len(state_cost):,} states\")\n",
    "    return list(reversed(path))"
   ]
  },
  {
   "cell_type": "code",
   "execution_count": 13,
   "metadata": {},
   "outputs": [],
   "source": [
    "P=np.array(problem(N,SEED), dtype=object)\n",
    "\n",
    "INITIAL_STATE= set()"
   ]
  },
  {
   "cell_type": "code",
   "execution_count": null,
   "metadata": {},
   "outputs": [],
   "source": [
    "def is_valid(board: np.ndarray, action):\n",
    "    return all(0 <= (find_empty_space(board) + action)[i] < board.shape[i] for i in [0, 1])\n",
    "\n",
    "\n",
    "def possible_actions(state: State):\n",
    "    return (m for m in MOVES if is_valid(state._data, m))"
   ]
  },
  {
   "cell_type": "code",
   "execution_count": 18,
   "metadata": {},
   "outputs": [
    {
     "data": {
      "text/plain": [
       "True"
      ]
     },
     "execution_count": 18,
     "metadata": {},
     "output_type": "execute_result"
    }
   ],
   "source": [
    "#GOAL = State(np.array(list(range(1, SIZE**2)) + [0]).reshape((SIZE, SIZE)))\n",
    "#logging.info(f\"Goal:\\n{GOAL}\")\n",
    "\n",
    "\n",
    "def goal_test(state):\n",
    "    goal=np.zeros(N)\n",
    "    for list_ in P:\n",
    "        for el in list_:\n",
    "            goal[el]=1\n",
    "            if np.sum(goal)==N:\n",
    "                return True\n",
    "    if np.sum(goal)==N:\n",
    "        return True\n",
    "    else:\n",
    "        return False            \n",
    "\n",
    "\n",
    "goal_test(P)      \n",
    "\n",
    "\n",
    "    "
   ]
  },
  {
   "cell_type": "code",
   "execution_count": null,
   "metadata": {},
   "outputs": [],
   "source": []
  }
 ],
 "metadata": {
  "kernelspec": {
   "display_name": "Python 3.10.7 64-bit",
   "language": "python",
   "name": "python3"
  },
  "language_info": {
   "codemirror_mode": {
    "name": "ipython",
    "version": 3
   },
   "file_extension": ".py",
   "mimetype": "text/x-python",
   "name": "python",
   "nbconvert_exporter": "python",
   "pygments_lexer": "ipython3",
   "version": "3.10.7"
  },
  "orig_nbformat": 4,
  "vscode": {
   "interpreter": {
    "hash": "26de051ba29f2982a8de78e945f0abaf191376122a1563185a90213a26c5da77"
   }
  }
 },
 "nbformat": 4,
 "nbformat_minor": 2
}
