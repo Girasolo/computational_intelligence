{
 "cells": [
  {
   "cell_type": "code",
   "execution_count": 1,
   "metadata": {},
   "outputs": [],
   "source": [
    "import random\n",
    "import numpy as np\n",
    "from typing import Callable\n",
    "from gx_utils import *\n",
    "import logging\n",
    "\n",
    "N=7\n",
    "SEED=42\n"
   ]
  },
  {
   "cell_type": "code",
   "execution_count": 2,
   "metadata": {},
   "outputs": [],
   "source": [
    "def problem(N, seed=None):\n",
    "    random.seed(seed)\n",
    "    return [\n",
    "        list(set(random.randint(0, N - 1) for n in range(random.randint(N // 5, N // 2))))\n",
    "        for n in range(random.randint(N, N * 5))\n",
    "    ]"
   ]
  },
  {
   "cell_type": "code",
   "execution_count": 3,
   "metadata": {},
   "outputs": [],
   "source": [
    "class State:\n",
    "    def __init__(self, data: np.ndarray):\n",
    "        self._data = data.copy()\n",
    "        self._data.flags.writeable = False\n",
    "\n",
    "    def __hash__(self):\n",
    "        return hash(bytes(self._data))\n",
    "        '''str_=''\n",
    "        for list_ in self._data:\n",
    "            #for el in list_:\n",
    "            #    str_+=str(el)\n",
    "            #str_+='|'\n",
    "            str_+=str(list_)\n",
    "        print(str_)\n",
    "        if(str_==''):\n",
    "            str_='[]'\n",
    "        return hash(str_)'''\n",
    "        \n",
    "\n",
    "    def __eq__(self, other):\n",
    "        return bytes(self._data) == bytes(other._data)\n",
    "\n",
    "    def __lt__(self, other):\n",
    "        return bytes(self._data) < bytes(other._data)\n",
    "\n",
    "    def __str__(self):\n",
    "        return str(self._data)\n",
    "\n",
    "    def __repr__(self):\n",
    "        return repr(self._data)\n",
    "\n",
    "    @property\n",
    "    def data(self):\n",
    "        return self._data\n",
    "\n",
    "    def copy_data(self):\n",
    "        return self._data.copy()\n",
    "\n"
   ]
  },
  {
   "cell_type": "code",
   "execution_count": null,
   "metadata": {},
   "outputs": [],
   "source": []
  },
  {
   "cell_type": "code",
   "execution_count": 4,
   "metadata": {},
   "outputs": [],
   "source": [
    "P=np.array(problem(N,SEED),dtype=object)\n",
    "\n",
    "INITIAL_STATE= State(np.array([],dtype=object))"
   ]
  },
  {
   "cell_type": "code",
   "execution_count": 5,
   "metadata": {},
   "outputs": [],
   "source": [
    "def is_valid(frozenset_: np.array, action: list):\n",
    "    #print(action)\n",
    "    for list_ in frozenset_:\n",
    "        #print(list_)\n",
    "        if set(list_)==set(action):\n",
    "            return False\n",
    "    \n",
    "    return True\n",
    "\n",
    "#setEx=np.array([[0],[1,2],[3,4,5],[6]],dtype=object)\n",
    "#actionEx=[2,1]\n",
    "\n",
    "#print(is_valid(setEx,actionEx))\n",
    "\n",
    "\n",
    "def possible_actions(state: State):\n",
    "    return [list_ for list_ in P if is_valid(state._data, list_)]\n",
    "\n",
    "#for a in possible_actions(State(setEx)):\n",
    "#    print(a)"
   ]
  },
  {
   "cell_type": "code",
   "execution_count": 6,
   "metadata": {},
   "outputs": [],
   "source": [
    "def result(state,action):\n",
    "    temp=state.copy_data().tolist()\n",
    "    #print(temp+[action])\n",
    "    return State(np.array(temp+[action],dtype=object))\n",
    "\n",
    "#setEx=np.array([[0],[1,2],[3,4,5],[6]],dtype=object)\n",
    "#actionEx=[1,3]\n",
    "\n",
    "#print(result(State(setEx),actionEx))"
   ]
  },
  {
   "cell_type": "code",
   "execution_count": 7,
   "metadata": {},
   "outputs": [],
   "source": [
    "#GOAL = State(np.array(list(range(1, SIZE**2)) + [0]).reshape((SIZE, SIZE)))\n",
    "#logging.info(f\"Goal:\\n{GOAL}\")\n",
    "\n",
    "'''\n",
    "def goal_test(state):\n",
    "    goal=np.zeros(N)\n",
    "    for list_ in P:\n",
    "        for el in list_:\n",
    "            goal[el]=1\n",
    "            if np.sum(goal)==N:\n",
    "                return True\n",
    "    if np.sum(goal)==N:\n",
    "        return True\n",
    "    else:\n",
    "        return False            \n",
    "'''\n",
    "\n",
    "\n",
    "def goal_test(state):\n",
    "    goal=set()\n",
    "    for list_ in state._data:\n",
    "        goal.update(list_)\n",
    "    return len(goal)== N\n",
    "\n",
    "#goal_test(P)\n",
    "\n",
    "\n",
    "    \n",
    "\n",
    "\n",
    "    "
   ]
  },
  {
   "cell_type": "code",
   "execution_count": 8,
   "metadata": {},
   "outputs": [],
   "source": [
    "def search(\n",
    "    initial_state: State,\n",
    "    goal_test: Callable,\n",
    "    parent_state: dict,\n",
    "    state_cost: dict,\n",
    "    priority_function: Callable,\n",
    "    unit_cost: Callable,\n",
    "):\n",
    "    frontier = PriorityQueue()\n",
    "    parent_state.clear()\n",
    "    state_cost.clear()\n",
    "\n",
    "    state = initial_state\n",
    "    parent_state[state] = None\n",
    "    state_cost[state] = 0\n",
    "\n",
    "    while state is not None and not goal_test(state):\n",
    "        for a in possible_actions(state):\n",
    "            new_state = result(state, a)\n",
    "            cost = unit_cost(a)\n",
    "            if new_state not in state_cost and new_state not in frontier:\n",
    "                parent_state[new_state] = state\n",
    "                state_cost[new_state] = state_cost[state] + cost\n",
    "                frontier.push(new_state, p=priority_function(new_state))\n",
    "                logging.debug(f\"Added new node to frontier (cost={state_cost[new_state]})\")\n",
    "            elif new_state in frontier and state_cost[new_state] > state_cost[state] + cost:\n",
    "                old_cost = state_cost[new_state]\n",
    "                parent_state[new_state] = state\n",
    "                state_cost[new_state] = state_cost[state] + cost\n",
    "                logging.debug(f\"Updated node cost in frontier: {old_cost} -> {state_cost[new_state]}\")\n",
    "        if frontier:\n",
    "            state = frontier.pop()\n",
    "        else:\n",
    "            state = None\n",
    "\n",
    "    path = list()\n",
    "    s = state\n",
    "    print(s)\n",
    "    while s:\n",
    "        path.append(s.copy_data())\n",
    "        s = parent_state[s]\n",
    "    \n",
    "    print(f\"Found a solution in {len(path):,} steps; visited {len(state_cost):,} states\")\n",
    "    logging.info(f\"Found a solution in {len(path):,} steps; visited {len(state_cost):,} states\")\n",
    "    return list(reversed(path))"
   ]
  },
  {
   "cell_type": "markdown",
   "metadata": {},
   "source": [
    "BREADTH-FIRST"
   ]
  },
  {
   "cell_type": "code",
   "execution_count": 9,
   "metadata": {},
   "outputs": [
    {
     "name": "stdout",
     "output_type": "stream",
     "text": [
      "[list([0]) list([5]) list([1, 3]) list([2, 4, 6])]\n",
      "Found a solution in 5 steps; visited 193,923 states\n"
     ]
    }
   ],
   "source": [
    "parent_state=dict()\n",
    "state_cost=dict()\n",
    "\n",
    "final=search(\n",
    "    INITIAL_STATE,\n",
    "    goal_test=goal_test,\n",
    "    parent_state=parent_state,\n",
    "    state_cost=state_cost,\n",
    "    priority_function=lambda s: len(state_cost),\n",
    "    unit_cost=lambda a: len(a),\n",
    ")"
   ]
  },
  {
   "cell_type": "markdown",
   "metadata": {},
   "source": [
    "A*"
   ]
  },
  {
   "cell_type": "code",
   "execution_count": 11,
   "metadata": {},
   "outputs": [
    {
     "name": "stdout",
     "output_type": "stream",
     "text": [
      "[list([2, 4, 6]) list([5]) list([1, 3]) list([0])]\n",
      "Found a solution in 5 steps; visited 85 states\n"
     ]
    }
   ],
   "source": [
    "parent_state = dict()\n",
    "state_cost = dict()\n",
    "\n",
    "\n",
    "def h(state):\n",
    "    goal=set()\n",
    "    for list_ in state._data:\n",
    "        goal.update(list_)\n",
    "    g = set([i for i in range(N)])\n",
    "    difference = g.difference(goal)\n",
    "    return sum(difference)\n",
    "    #return N-len(goal) \n",
    "    \n",
    "\n",
    "#setEx=np.array([[0],[1,2],[3,4,5],[6]],dtype=object)\n",
    "#actionEx=[2,1]\n",
    "\n",
    "#print(set(setEx))\n",
    "final = search(\n",
    "    INITIAL_STATE,\n",
    "    goal_test=goal_test,\n",
    "    parent_state=parent_state,\n",
    "    state_cost=state_cost,\n",
    "    priority_function=lambda s: state_cost[s] + h(s),\n",
    "    unit_cost=lambda a: len(a),\n",
    ")"
   ]
  },
  {
   "cell_type": "code",
   "execution_count": null,
   "metadata": {},
   "outputs": [],
   "source": []
  },
  {
   "cell_type": "code",
   "execution_count": null,
   "metadata": {},
   "outputs": [],
   "source": []
  }
 ],
 "metadata": {
  "kernelspec": {
   "display_name": "Python 3.10.7 64-bit",
   "language": "python",
   "name": "python3"
  },
  "language_info": {
   "codemirror_mode": {
    "name": "ipython",
    "version": 3
   },
   "file_extension": ".py",
   "mimetype": "text/x-python",
   "name": "python",
   "nbconvert_exporter": "python",
   "pygments_lexer": "ipython3",
   "version": "3.10.7"
  },
  "orig_nbformat": 4,
  "vscode": {
   "interpreter": {
    "hash": "26de051ba29f2982a8de78e945f0abaf191376122a1563185a90213a26c5da77"
   }
  }
 },
 "nbformat": 4,
 "nbformat_minor": 2
}
